{
 "cells": [
  {
   "cell_type": "code",
   "execution_count": 1,
   "metadata": {},
   "outputs": [],
   "source": [
    "from sqlalchemy import create_engine\n",
    "\n",
    "postgres_user = 'dsbc_student'\n",
    "postgres_pw = '7*.8G9QH21'\n",
    "postgres_host = '142.93.121.174'\n",
    "postgres_port = '5432'\n",
    "postgres_db = 'dvdrentals'\n",
    "\n",
    "engine = create_engine('postgresql://{}:{}@{}:{}/{}'.format(\n",
    "    postgres_user, postgres_pw, postgres_host, postgres_port, postgres_db))\n"
   ]
  },
  {
   "cell_type": "markdown",
   "metadata": {},
   "source": [
    "## 1. How many movies are released for each rating?"
   ]
  },
  {
   "cell_type": "code",
   "execution_count": 2,
   "metadata": {},
   "outputs": [
    {
     "name": "stdout",
     "output_type": "stream",
     "text": [
      "(195, 'R')\n",
      "(210, 'NC-17')\n",
      "(194, 'PG')\n",
      "(223, 'PG-13')\n",
      "(178, 'G')\n"
     ]
    }
   ],
   "source": [
    "sql = '''\n",
    "    select count(rating) as count_rating, rating \n",
    "    from film\n",
    "    group by rating'''\n",
    "results = engine.execute(sql)\n",
    "engine.dispose()\n",
    "movies_per_rating = results.fetchall()\n",
    "for row in movies_per_rating:\n",
    "    print(row)"
   ]
  },
  {
   "cell_type": "markdown",
   "metadata": {},
   "source": [
    "## 2. What is the average rental duration for each rating?"
   ]
  },
  {
   "cell_type": "code",
   "execution_count": 3,
   "metadata": {},
   "outputs": [
    {
     "name": "stdout",
     "output_type": "stream",
     "text": [
      "[(Decimal('119'), 'R'), (Decimal('113'), 'NC-17'), (Decimal('112'), 'PG'), (Decimal('120'), 'PG-13'), (Decimal('111'), 'G')]\n"
     ]
    }
   ],
   "source": [
    "sql = '''\n",
    "    select round(avg(length),0), rating from film\n",
    "    group by rating\n",
    "    '''\n",
    "results = engine.execute(sql)\n",
    "engine.dispose\n",
    "average_duration = results.fetchall()\n",
    "print(average_duration)"
   ]
  },
  {
   "cell_type": "markdown",
   "metadata": {},
   "source": [
    "## 3. What is the mean movie length? Calculate this by defining a function."
   ]
  },
  {
   "cell_type": "code",
   "execution_count": 22,
   "metadata": {
    "scrolled": true
   },
   "outputs": [
    {
     "data": {
      "text/plain": [
       "115.272"
      ]
     },
     "execution_count": 22,
     "metadata": {},
     "output_type": "execute_result"
    }
   ],
   "source": [
    "def mean(numbers):\n",
    "  total_sum = 0;\n",
    "  for n in numbers:\n",
    "    total_sum += n\n",
    "  count = len(numbers)\n",
    "  avg = total_sum / count\n",
    "  return avg \n",
    "\n",
    "sql = '''\n",
    "    select length from film'''\n",
    "results = engine.execute(sql)\n",
    "engine.dispose()\n",
    "duration = results.fetchall()\n",
    "\n",
    "numbers = []\n",
    "for n in duration:\n",
    "    number = n[0]\n",
    "    numbers.append(number)\n",
    "mean(numbers)\n"
   ]
  },
  {
   "cell_type": "markdown",
   "metadata": {},
   "source": [
    "## 4. What is the median movie length? Calculate this by defining a function"
   ]
  },
  {
   "cell_type": "code",
   "execution_count": 23,
   "metadata": {},
   "outputs": [
    {
     "data": {
      "text/plain": [
       "114.0"
      ]
     },
     "execution_count": 23,
     "metadata": {},
     "output_type": "execute_result"
    }
   ],
   "source": [
    "import math\n",
    "\n",
    "def median(numbers):\n",
    "  numbers.sort()\n",
    "  count = len(numbers)\n",
    "  isEven = count % 2 == 0\n",
    "  \n",
    "  if (isEven):\n",
    "    mid = math.floor( count / 2 )\n",
    "    a = numbers[mid]\n",
    "    b = numbers[mid + 1]\n",
    "    ans = (a + b) / 2\n",
    "  else:\n",
    "    ans = numbers[math.floor( count / 2 )]\n",
    " \n",
    "  return ans\n",
    "\n",
    "median(numbers)"
   ]
  },
  {
   "cell_type": "markdown",
   "metadata": {},
   "source": [
    "## 5. Calculate the standard deviation of the movie lengths. Calculate this by defining a function."
   ]
  },
  {
   "cell_type": "code",
   "execution_count": 24,
   "metadata": {},
   "outputs": [
    {
     "data": {
      "text/plain": [
       "40.42633181855988"
      ]
     },
     "execution_count": 24,
     "metadata": {},
     "output_type": "execute_result"
    }
   ],
   "source": [
    "def standard_deviation(numbers):\n",
    "  X_bar = mean(numbers)\n",
    "  N = len(numbers)\n",
    "  total_sum = 0\n",
    "  for X in numbers:\n",
    "    diff = X - X_bar\n",
    "    squared = math.pow(diff, 2)\n",
    "    total_sum += squared\n",
    "  sigma = math.sqrt(total_sum / (N - 1))  \n",
    "  return sigma\n",
    "\n",
    "standard_deviation(numbers)"
   ]
  },
  {
   "cell_type": "code",
   "execution_count": null,
   "metadata": {},
   "outputs": [],
   "source": []
  }
 ],
 "metadata": {
  "kernelspec": {
   "display_name": "Python 3",
   "language": "python",
   "name": "python3"
  },
  "language_info": {
   "codemirror_mode": {
    "name": "ipython",
    "version": 3
   },
   "file_extension": ".py",
   "mimetype": "text/x-python",
   "name": "python",
   "nbconvert_exporter": "python",
   "pygments_lexer": "ipython3",
   "version": "3.7.4"
  }
 },
 "nbformat": 4,
 "nbformat_minor": 2
}
