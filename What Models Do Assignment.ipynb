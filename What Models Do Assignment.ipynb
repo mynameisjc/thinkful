{
 "cells": [
  {
   "cell_type": "markdown",
   "metadata": {},
   "source": [
    "# 1. Try to model the result of a coin toss. In your model, include any features that you think important in explaining the result. Discuss with your mentor about the pros and cons of adding too many features into your model.¶\n",
    "\n",
    "There are quite a few factors that would affect our coin toss prediction.\n",
    "\n",
    "1. The force flipping the coin.\n",
    "2. The height from the surface it would land on.\n",
    "3. How hard the surface is it is landing on.\n",
    "4. The angle the coin is flipped at.\n",
    "5. The distance the coin travels.\n",
    "6. The humidity in the air.\n",
    "7. The weight of the coin itself.\n",
    "8. What material the surface it will land on is made of\n",
    "9. So many more.\n",
    "\n",
    "Too many features would require us to do more experiments and obtain more data, so only keeping the most relevant data should matter to our model, not every single factor. We can run trial experiments to see what has the largest effect on the data, and then remove all those that fall under the threshold we set.\n",
    "\n",
    "# 2. If you ever used Netflix, you should already have realized that it provides some recommendations for you to watch. In data science, this is an example of the so called recommendations systems. Read this non-technical blog post of Netflix about how they model their recommendations systems. Then, derive the features they use in their recommendations engines and discuss what else can be incorporated into this model.¶\n",
    "\n",
    "The Netflix recommendation system takes into account quite a few factors as well.\n",
    "\n",
    "1. Interactions with the service (what you've watched and/or rated)\n",
    "2. Other members who watch the same kinds of things you watch\n",
    "3. Genre, category, actors, release years, and any other information about the titles you've watched\n",
    "4. The time of day you usually watch.\n",
    "5. What kind of devices you watch on.\n",
    "6. How long you watch for.\n",
    "\n",
    "Some additional features that might be interesting to have would be\n",
    "\n",
    "1. Seeing if there are specific actors and actresses that work together in certain movies.\n",
    "2. The location of filming that the movie is set in.\n",
    "3. What language they speak in the movies they usually watch of course.\n",
    "4. Linking outside rating systems and outside accounts to link to Netflix and see what their ratings are there."
   ]
  },
  {
   "cell_type": "code",
   "execution_count": null,
   "metadata": {},
   "outputs": [],
   "source": []
  }
 ],
 "metadata": {
  "kernelspec": {
   "display_name": "Python 3",
   "language": "python",
   "name": "python3"
  },
  "language_info": {
   "codemirror_mode": {
    "name": "ipython",
    "version": 3
   },
   "file_extension": ".py",
   "mimetype": "text/x-python",
   "name": "python",
   "nbconvert_exporter": "python",
   "pygments_lexer": "ipython3",
   "version": "3.7.4"
  }
 },
 "nbformat": 4,
 "nbformat_minor": 2
}
